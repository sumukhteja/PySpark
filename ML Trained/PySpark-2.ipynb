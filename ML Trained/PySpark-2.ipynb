{
 "cells": [
  {
   "cell_type": "code",
   "execution_count": 1,
   "id": "70493587",
   "metadata": {
    "scrolled": false
   },
   "outputs": [
    {
     "name": "stdout",
     "output_type": "stream",
     "text": [
      "+-----+--------------------+----------+\n",
      "|label|transformed_features|prediction|\n",
      "+-----+--------------------+----------+\n",
      "|    1|             [12.85]|       3.0|\n",
      "|    1|             [13.24]|       3.0|\n",
      "|    1|             [13.24]|       3.0|\n",
      "|    1|              [13.3]|       3.0|\n",
      "|    1|             [13.48]|       3.0|\n",
      "|    1|             [13.56]|       3.0|\n",
      "|    1|             [13.56]|       3.0|\n",
      "|    1|             [13.63]|       1.0|\n",
      "|    1|             [13.68]|       1.0|\n",
      "|    1|             [13.72]|       1.0|\n",
      "|    1|             [13.76]|       1.0|\n",
      "|    1|             [13.77]|       1.0|\n",
      "|    1|              [13.9]|       1.0|\n",
      "|    1|             [14.02]|       1.0|\n",
      "|    1|              [14.1]|       1.0|\n",
      "|    1|             [14.12]|       1.0|\n",
      "|    1|              [14.2]|       1.0|\n",
      "|    1|             [14.22]|       1.0|\n",
      "|    1|             [14.38]|       1.0|\n",
      "|    1|             [14.38]|       1.0|\n",
      "+-----+--------------------+----------+\n",
      "only showing top 20 rows\n",
      "\n",
      "Accuracy: 70.00%\n"
     ]
    }
   ],
   "source": [
    "import urllib.request\n",
    "from pyspark.sql import SparkSession\n",
    "from pyspark.sql.types import StructType, StructField, IntegerType, DoubleType\n",
    "from pyspark.ml.feature import VectorAssembler\n",
    "from pyspark.ml.classification import RandomForestClassifier\n",
    "from pyspark.ml.evaluation import MulticlassClassificationEvaluator\n",
    "\n",
    "# Create a SparkSession\n",
    "spark = SparkSession.builder \\\n",
    "    .appName(\"Wine Dataset\") \\\n",
    "    .getOrCreate()\n",
    "\n",
    "# Define the schema of the dataset\n",
    "schema = StructType([\n",
    "    StructField(\"label\", IntegerType(), nullable=True),\n",
    "    StructField(\"features\", DoubleType(), nullable=True),\n",
    "])\n",
    "\n",
    "# Download the Wine dataset from the UCI Machine Learning Repository\n",
    "data_url = \"https://archive.ics.uci.edu/ml/machine-learning-databases/wine/wine.data\"\n",
    "data_path = r\"C:\\Users\\Sunny\\wine.data\"\n",
    "urllib.request.urlretrieve(data_url, data_path)\n",
    "\n",
    "# Read the dataset from the local file using the defined schema\n",
    "wineData = spark.read.format(\"csv\") \\\n",
    "    .schema(schema) \\\n",
    "    .option(\"header\", \"false\") \\\n",
    "    .load(data_path)\n",
    "\n",
    "# Prepare the data\n",
    "assembler = VectorAssembler(inputCols=wineData.columns[1:], outputCol=\"transformed_features\")\n",
    "wineData = assembler.transform(wineData)\n",
    "\n",
    "# Split the data into training and test sets\n",
    "(trainingData, testData) = wineData.randomSplit([0.7, 0.3])\n",
    "\n",
    "# Create a Random Forest Classifier\n",
    "randomForest = RandomForestClassifier(labelCol=\"label\", featuresCol=\"transformed_features\")\n",
    "\n",
    "# Train the model\n",
    "model = randomForest.fit(trainingData)\n",
    "\n",
    "# Make predictions on the test set\n",
    "predictions = model.transform(testData)\n",
    "\n",
    "# Show the predicted labels and corresponding features\n",
    "predictions.select(\"label\", \"transformed_features\", \"prediction\").show()\n",
    "\n",
    "# Evaluate the model\n",
    "evaluator = MulticlassClassificationEvaluator(labelCol=\"label\", predictionCol=\"prediction\", metricName=\"accuracy\")\n",
    "accuracy = evaluator.evaluate(predictions)\n",
    "print(\"Accuracy: {:.2%}\".format(accuracy))"
   ]
  }
 ],
 "metadata": {
  "kernelspec": {
   "display_name": "Python 3 (ipykernel)",
   "language": "python",
   "name": "python3"
  },
  "language_info": {
   "codemirror_mode": {
    "name": "ipython",
    "version": 3
   },
   "file_extension": ".py",
   "mimetype": "text/x-python",
   "name": "python",
   "nbconvert_exporter": "python",
   "pygments_lexer": "ipython3",
   "version": "3.11.3"
  }
 },
 "nbformat": 4,
 "nbformat_minor": 5
}
