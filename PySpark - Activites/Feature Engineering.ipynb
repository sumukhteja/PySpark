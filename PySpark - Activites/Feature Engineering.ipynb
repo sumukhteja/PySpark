{
 "cells": [
  {
   "cell_type": "code",
   "execution_count": 3,
   "id": "4234b250",
   "metadata": {
    "scrolled": false
   },
   "outputs": [
    {
     "name": "stdout",
     "output_type": "stream",
     "text": [
      "   sepal_length  sepal_width  petal_length  petal_width species  sepal_area   \n",
      "0           5.1          3.5           1.4          0.2  setosa       17.85  \\\n",
      "1           4.9          3.0           1.4          0.2  setosa       14.70   \n",
      "2           4.7          3.2           1.3          0.2  setosa       15.04   \n",
      "3           4.6          3.1           1.5          0.2  setosa       14.26   \n",
      "4           5.0          3.6           1.4          0.2  setosa       18.00   \n",
      "\n",
      "   petal_ratio  \n",
      "0          7.0  \n",
      "1          7.0  \n",
      "2          6.5  \n",
      "3          7.5  \n",
      "4          7.0  \n"
     ]
    }
   ],
   "source": [
    "import pandas as pd\n",
    "\n",
    "# Load the iris dataset\n",
    "iris = pd.read_csv('iris.csv')\n",
    "\n",
    "# Perform feature engineering\n",
    "iris['sepal_area'] = iris['sepal_length'] * iris['sepal_width']\n",
    "iris['petal_ratio'] = iris['petal_length'] / iris['petal_width']\n",
    "\n",
    "# Display the modified dataset\n",
    "print(iris.head())\n"
   ]
  }
 ],
 "metadata": {
  "kernelspec": {
   "display_name": "Python 3 (ipykernel)",
   "language": "python",
   "name": "python3"
  },
  "language_info": {
   "codemirror_mode": {
    "name": "ipython",
    "version": 3
   },
   "file_extension": ".py",
   "mimetype": "text/x-python",
   "name": "python",
   "nbconvert_exporter": "python",
   "pygments_lexer": "ipython3",
   "version": "3.11.3"
  }
 },
 "nbformat": 4,
 "nbformat_minor": 5
}
