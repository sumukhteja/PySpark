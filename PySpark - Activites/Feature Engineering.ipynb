{
 "cells": [
  {
   "cell_type": "code",
   "execution_count": 5,
   "id": "4f104811",
   "metadata": {
    "scrolled": false
   },
   "outputs": [
    {
     "name": "stdout",
     "output_type": "stream",
     "text": [
      "+------------+-----------+------------+-----------+-------+------------------+-----------------+\n",
      "|sepal_length|sepal_width|petal_length|petal_width|species|        sepal_area|      petal_ratio|\n",
      "+------------+-----------+------------+-----------+-------+------------------+-----------------+\n",
      "|         5.1|        3.5|         1.4|        0.2| setosa|17.849999999999998|6.999999999999999|\n",
      "|         4.9|        3.0|         1.4|        0.2| setosa|14.700000000000001|6.999999999999999|\n",
      "|         4.7|        3.2|         1.3|        0.2| setosa|15.040000000000001|              6.5|\n",
      "|         4.6|        3.1|         1.5|        0.2| setosa|             14.26|              7.5|\n",
      "|         5.0|        3.6|         1.4|        0.2| setosa|              18.0|6.999999999999999|\n",
      "+------------+-----------+------------+-----------+-------+------------------+-----------------+\n",
      "only showing top 5 rows\n",
      "\n"
     ]
    }
   ],
   "source": [
    "from pyspark.sql import SparkSession\n",
    "from pyspark.sql.functions import col\n",
    "\n",
    "# Create a Spark session\n",
    "spark = SparkSession.builder.appName(\"FeatureEngineering\").getOrCreate()\n",
    "\n",
    "# Load the iris dataset\n",
    "irisData = spark.read.csv(\"iris.csv\", header=True, inferSchema=True)\n",
    "\n",
    "# Perform feature engineering\n",
    "irisData = irisData.withColumn(\"sepal_area\", col(\"sepal_length\") * col(\"sepal_width\"))\n",
    "irisData = irisData.withColumn(\"petal_ratio\", col(\"petal_length\") / col(\"petal_width\"))\n",
    "\n",
    "# Display the modified dataset\n",
    "irisData.show(5)\n"
   ]
  }
 ],
 "metadata": {
  "kernelspec": {
   "display_name": "Python 3 (ipykernel)",
   "language": "python",
   "name": "python3"
  },
  "language_info": {
   "codemirror_mode": {
    "name": "ipython",
    "version": 3
   },
   "file_extension": ".py",
   "mimetype": "text/x-python",
   "name": "python",
   "nbconvert_exporter": "python",
   "pygments_lexer": "ipython3",
   "version": "3.11.3"
  }
 },
 "nbformat": 4,
 "nbformat_minor": 5
}
