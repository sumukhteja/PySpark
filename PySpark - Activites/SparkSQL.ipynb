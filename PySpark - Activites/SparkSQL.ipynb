{
 "cells": [
  {
   "cell_type": "code",
   "execution_count": 7,
   "id": "06b254cc",
   "metadata": {},
   "outputs": [
    {
     "name": "stdout",
     "output_type": "stream",
     "text": [
      "+------------+-----------+------------+-----------+---------+\n",
      "|sepal_length|sepal_width|petal_length|petal_width|  species|\n",
      "+------------+-----------+------------+-----------+---------+\n",
      "|         7.9|        3.8|         6.4|        2.0|virginica|\n",
      "|         7.7|        3.8|         6.7|        2.2|virginica|\n",
      "|         7.7|        2.6|         6.9|        2.3|virginica|\n",
      "|         7.7|        2.8|         6.7|        2.0|virginica|\n",
      "|         7.7|        3.0|         6.1|        2.3|virginica|\n",
      "|         7.6|        3.0|         6.6|        2.1|virginica|\n",
      "|         7.4|        2.8|         6.1|        1.9|virginica|\n",
      "|         7.3|        2.9|         6.3|        1.8|virginica|\n",
      "|         7.2|        3.6|         6.1|        2.5|virginica|\n",
      "|         7.2|        3.2|         6.0|        1.8|virginica|\n",
      "|         7.2|        3.0|         5.8|        1.6|virginica|\n",
      "|         7.1|        3.0|         5.9|        2.1|virginica|\n",
      "+------------+-----------+------------+-----------+---------+\n",
      "\n",
      "+----------+----------------+\n",
      "|   species|avg_petal_length|\n",
      "+----------+----------------+\n",
      "| virginica|           5.552|\n",
      "|versicolor|            4.26|\n",
      "|    setosa|           1.464|\n",
      "+----------+----------------+\n",
      "\n"
     ]
    }
   ],
   "source": [
    "from pyspark.sql import SparkSession\n",
    "\n",
    "# Create a Spark session\n",
    "spark = SparkSession.builder.appName(\"SparkSQLQueries\").getOrCreate()\n",
    "\n",
    "# Load the Iris dataset\n",
    "irisData = spark.read.csv(\"iris.csv\", header=True, inferSchema=True)\n",
    "\n",
    "# Create a temporary view from the DataFrame\n",
    "irisData.createOrReplaceTempView(\"iris_table\")\n",
    "\n",
    "# Perform Spark SQL queries\n",
    "result = spark.sql(\"SELECT * FROM iris_table WHERE sepal_length > 7 order by sepal_length desc\")\n",
    "result.show()\n",
    "\n",
    "# Perform more complex Spark SQL queries\n",
    "result2 = spark.sql(\"\"\"\n",
    "    SELECT species, AVG(petal_length) AS avg_petal_length\n",
    "    FROM iris_table\n",
    "    GROUP BY species\n",
    "\"\"\")\n",
    "result2.show()\n",
    "\n",
    "# Stop the Spark session\n",
    "spark.stop()\n"
   ]
  }
 ],
 "metadata": {
  "kernelspec": {
   "display_name": "Python 3 (ipykernel)",
   "language": "python",
   "name": "python3"
  },
  "language_info": {
   "codemirror_mode": {
    "name": "ipython",
    "version": 3
   },
   "file_extension": ".py",
   "mimetype": "text/x-python",
   "name": "python",
   "nbconvert_exporter": "python",
   "pygments_lexer": "ipython3",
   "version": "3.11.3"
  }
 },
 "nbformat": 4,
 "nbformat_minor": 5
}
