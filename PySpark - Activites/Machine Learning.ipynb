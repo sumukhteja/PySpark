{
 "cells": [
  {
   "cell_type": "code",
   "execution_count": 7,
   "id": "479d49f4",
   "metadata": {},
   "outputs": [
    {
     "name": "stdout",
     "output_type": "stream",
     "text": [
      "Accuracy: 100.00%\n"
     ]
    }
   ],
   "source": [
    "from pyspark.ml.feature import StringIndexer, VectorAssembler\n",
    "from pyspark.ml.classification import DecisionTreeClassifier\n",
    "from pyspark.ml.evaluation import MulticlassClassificationEvaluator\n",
    "from pyspark.sql import SparkSession\n",
    "\n",
    "# Create a Spark session\n",
    "spark = SparkSession.builder.appName(\"IrisClassification\").getOrCreate()\n",
    "\n",
    "# Load the iris dataset\n",
    "irisData = spark.read.csv(\"iris.csv\", header=True, inferSchema=True)\n",
    "\n",
    "# Convert the \"species\" column to a numeric label\n",
    "labelIndexer = StringIndexer(inputCol=\"species\", outputCol=\"label\")\n",
    "indexedData = labelIndexer.fit(irisData).transform(irisData)\n",
    "\n",
    "# Prepare the feature vector\n",
    "assembler = VectorAssembler(\n",
    "    inputCols=[\"sepal_length\", \"sepal_width\", \"petal_length\", \"petal_width\"],\n",
    "    outputCol=\"features\"\n",
    ")\n",
    "assembledData = assembler.transform(indexedData)\n",
    "\n",
    "# Split the data into training and testing sets\n",
    "(trainData, testData) = assembledData.randomSplit([0.8, 0.2], seed=42)\n",
    "\n",
    "# Initialize the decision tree classifier\n",
    "dtClassifier = DecisionTreeClassifier(labelCol=\"label\", featuresCol=\"features\")\n",
    "\n",
    "# Train the model on the training set\n",
    "model = dtClassifier.fit(trainData)\n",
    "\n",
    "# Make predictions on the testing set\n",
    "predictions = model.transform(testData)\n",
    "\n",
    "# Evaluate the model's accuracy\n",
    "evaluator = MulticlassClassificationEvaluator(labelCol=\"label\", predictionCol=\"prediction\", metricName=\"accuracy\")\n",
    "accuracy = evaluator.evaluate(predictions) * 100\n",
    "\n",
    "# Display the accuracy\n",
    "print(\"Accuracy: {:.2f}%\".format(accuracy))\n",
    "\n",
    "# Stop the Spark session\n",
    "spark.stop()\n"
   ]
  }
 ],
 "metadata": {
  "kernelspec": {
   "display_name": "Python 3 (ipykernel)",
   "language": "python",
   "name": "python3"
  },
  "language_info": {
   "codemirror_mode": {
    "name": "ipython",
    "version": 3
   },
   "file_extension": ".py",
   "mimetype": "text/x-python",
   "name": "python",
   "nbconvert_exporter": "python",
   "pygments_lexer": "ipython3",
   "version": "3.11.3"
  }
 },
 "nbformat": 4,
 "nbformat_minor": 5
}
